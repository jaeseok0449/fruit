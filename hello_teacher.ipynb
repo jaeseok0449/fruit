{
  "nbformat": 4,
  "nbformat_minor": 0,
  "metadata": {
    "colab": {
      "name": "hello teacher",
      "provenance": [],
      "authorship_tag": "ABX9TyPilmrWN1OhYHBux7cv5Jkf",
      "include_colab_link": true
    },
    "kernelspec": {
      "name": "python3",
      "display_name": "Python 3"
    },
    "language_info": {
      "name": "python"
    }
  },
  "cells": [
    {
      "cell_type": "markdown",
      "metadata": {
        "id": "view-in-github",
        "colab_type": "text"
      },
      "source": [
        "<a href=\"https://colab.research.google.com/github/jaeseok0449/fruit/blob/main/hello_teacher.ipynb\" target=\"_parent\"><img src=\"https://colab.research.google.com/assets/colab-badge.svg\" alt=\"Open In Colab\"/></a>"
      ]
    },
    {
      "cell_type": "code",
      "execution_count": 1,
      "metadata": {
        "colab": {
          "base_uri": "https://localhost:8080/"
        },
        "id": "tDlKY4H8vLNS",
        "outputId": "9cec8c4a-f4dd-4770-a082-e5f6fabbd757"
      },
      "outputs": [
        {
          "output_type": "stream",
          "name": "stdout",
          "text": [
            "i like apple\n"
          ]
        }
      ],
      "source": [
        "print (\"i like apple\")"
      ]
    }
  ]
}